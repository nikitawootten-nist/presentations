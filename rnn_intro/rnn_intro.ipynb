{
 "cells": [
  {
   "cell_type": "markdown",
   "metadata": {
    "slideshow": {
     "slide_type": "slide"
    }
   },
   "source": [
    "![rnn diagram](http://hgrif.github.io/images/counting-architecture.png)\n",
    "\n",
    "# Intro to RNNs\n",
    "### Nikita Wootten"
   ]
  },
  {
   "cell_type": "code",
   "execution_count": 1,
   "metadata": {
    "slideshow": {
     "slide_type": "skip"
    }
   },
   "outputs": [],
   "source": [
    "# all trivial imports\n",
    "import numpy as np\n",
    "import pandas as pd\n",
    "import tensorflow as tf\n",
    "from tensorflow import keras as K\n",
    "from sklearn.model_selection import train_test_split\n",
    "from sklearn.linear_model import LogisticRegression\n",
    "from ipywidgets import interact\n",
    "import matplotlib.pyplot as plt\n",
    "import warnings\n",
    "warnings.filterwarnings('ignore')\n",
    "%matplotlib inline"
   ]
  },
  {
   "cell_type": "markdown",
   "metadata": {
    "cell_style": "center",
    "slideshow": {
     "slide_type": "subslide"
    }
   },
   "source": [
    "## Recap: Neural Networks\n",
    "<img src=\"https://miro.medium.com/max/700/1*ZB6H4HuF58VcMOWbdpcRxQ.png\" style=\"margin:auto;height:50%\"/>\n",
    "\n",
    "* An **artificial neural network** typically takes in a fixed size input vector and returns a fixed size output vector\n",
    "* This can be used to solve all sorts of problems, from image generation to handwriting recognition to even compression"
   ]
  },
  {
   "cell_type": "markdown",
   "metadata": {
    "slideshow": {
     "slide_type": "notes"
    }
   },
   "source": [
    "This ANN for example takes in a fixed length vector of size 4, propagates the data through two hidden layers, and finally returns a vector of size 3."
   ]
  },
  {
   "cell_type": "markdown",
   "metadata": {
    "cell_style": "split",
    "slideshow": {
     "slide_type": "subslide"
    }
   },
   "source": [
    "## And here lies the limitation\n",
    "Many types of data can not be neatly represented as a fixed length vector. All sorts of data can be described as a *series* of data points, rather than a single fixed-length vector.\n",
    "\n",
    "This includes problems like:\n",
    "* weather/stock price forcasting\n",
    "* text classification / generation\n",
    "    * image captioning\n",
    "* audio transcription\n",
    "* machine translation"
   ]
  },
  {
   "cell_type": "markdown",
   "metadata": {
    "cell_style": "split",
    "slideshow": {
     "slide_type": "-"
    }
   },
   "source": [
    "![stock market stock photo](https://sevensreport.com/wp-content/uploads/2016/07/stock-market-3.jpg)"
   ]
  },
  {
   "cell_type": "markdown",
   "metadata": {
    "cell_style": "split",
    "slideshow": {
     "slide_type": "slide"
    }
   },
   "source": [
    "## Introducting our benchmark dataset\n",
    "We will be using [Standord's Large Movie Review Dataset](http://ai.stanford.edu/~amaas/data/sentiment/) as a simple benchmark dataset.\n",
    "\n",
    "The dataset contains two columns, `review` and `sentiment`, where:\n",
    "* `review` is a text column containing some user's review of a movie\n",
    "* `sentiment` is a categorical column, either being `positive` or `negative`\n",
    "\n",
    "We will be training several neural networks with the task of determining if a movie review is positive or negative"
   ]
  },
  {
   "cell_type": "code",
   "execution_count": null,
   "metadata": {
    "cell_style": "split",
    "scrolled": true,
    "slideshow": {
     "slide_type": "fragment"
    }
   },
   "outputs": [],
   "source": [
    "# download dataset from kaggle \n",
    "!kaggle datasets download lakshmi25npathi/imdb-dataset-of-50k-movie-reviews\n",
    "# unzip downloaded dataset and load into a pandas dataframe\n",
    "!unzip -o imdb-dataset-of-50k-movie-reviews.zip"
   ]
  },
  {
   "cell_type": "code",
   "execution_count": 3,
   "metadata": {
    "slideshow": {
     "slide_type": "fragment"
    }
   },
   "outputs": [
    {
     "data": {
      "text/html": [
       "<div>\n",
       "<style scoped>\n",
       "    .dataframe tbody tr th:only-of-type {\n",
       "        vertical-align: middle;\n",
       "    }\n",
       "\n",
       "    .dataframe tbody tr th {\n",
       "        vertical-align: top;\n",
       "    }\n",
       "\n",
       "    .dataframe thead th {\n",
       "        text-align: right;\n",
       "    }\n",
       "</style>\n",
       "<table border=\"1\" class=\"dataframe\">\n",
       "  <thead>\n",
       "    <tr style=\"text-align: right;\">\n",
       "      <th></th>\n",
       "      <th>review</th>\n",
       "      <th>sentiment</th>\n",
       "    </tr>\n",
       "  </thead>\n",
       "  <tbody>\n",
       "    <tr>\n",
       "      <th>0</th>\n",
       "      <td>One of the other reviewers has mentioned that ...</td>\n",
       "      <td>positive</td>\n",
       "    </tr>\n",
       "    <tr>\n",
       "      <th>1</th>\n",
       "      <td>A wonderful little production. &lt;br /&gt;&lt;br /&gt;The...</td>\n",
       "      <td>positive</td>\n",
       "    </tr>\n",
       "    <tr>\n",
       "      <th>2</th>\n",
       "      <td>I thought this was a wonderful way to spend ti...</td>\n",
       "      <td>positive</td>\n",
       "    </tr>\n",
       "    <tr>\n",
       "      <th>3</th>\n",
       "      <td>Basically there's a family where a little boy ...</td>\n",
       "      <td>negative</td>\n",
       "    </tr>\n",
       "    <tr>\n",
       "      <th>4</th>\n",
       "      <td>Petter Mattei's \"Love in the Time of Money\" is...</td>\n",
       "      <td>positive</td>\n",
       "    </tr>\n",
       "  </tbody>\n",
       "</table>\n",
       "</div>"
      ],
      "text/plain": [
       "                                              review sentiment\n",
       "0  One of the other reviewers has mentioned that ...  positive\n",
       "1  A wonderful little production. <br /><br />The...  positive\n",
       "2  I thought this was a wonderful way to spend ti...  positive\n",
       "3  Basically there's a family where a little boy ...  negative\n",
       "4  Petter Mattei's \"Love in the Time of Money\" is...  positive"
      ]
     },
     "execution_count": 3,
     "metadata": {},
     "output_type": "execute_result"
    }
   ],
   "source": [
    "df = pd.read_csv(\"IMDB Dataset.csv\")\n",
    "df.head()"
   ]
  },
  {
   "cell_type": "code",
   "execution_count": null,
   "metadata": {
    "slideshow": {
     "slide_type": "skip"
    }
   },
   "outputs": [],
   "source": [
    "# Remove extraneous datasets now that they are loaded into memory\n",
    "!rm imdb-dataset-of-50k-movie-reviews.zip \"IMDB Dataset.csv\"\n",
    "print(\"Remaining files:\")\n",
    "!ls"
   ]
  },
  {
   "cell_type": "markdown",
   "metadata": {
    "cell_style": "split",
    "slideshow": {
     "slide_type": "subslide"
    }
   },
   "source": [
    "## Basic data exploration\n",
    "There are a few things to look out for when looking at any dataset.\n",
    "\n",
    "* Did you load the expected number of records (50k)\n",
    "* Is there a significant class imbalance that could be reflected in trained models\n",
    "* Does the dataset contain any null values that could cause our code to crash?"
   ]
  },
  {
   "cell_type": "code",
   "execution_count": 5,
   "metadata": {
    "cell_style": "split",
    "slideshow": {
     "slide_type": "fragment"
    }
   },
   "outputs": [
    {
     "name": "stdout",
     "output_type": "stream",
     "text": [
      "The IMDB review dataset has 50000 rows\n"
     ]
    },
    {
     "data": {
      "image/png": "[encoded data removed]",
      "text/plain": [
       "<Figure size 432x288 with 1 Axes>"
      ]
     },
     "metadata": {},
     "output_type": "display_data"
    },
    {
     "name": "stdout",
     "output_type": "stream",
     "text": [
      "Does the dataset contain any missing values: False\n"
     ]
    }
   ],
   "source": [
    "# print number of values\n",
    "print(f\"The IMDB review dataset has {df.shape[0]} rows\")\n",
    "# plot class imbalance\n",
    "df['sentiment'].value_counts().plot(kind='pie')\n",
    "plt.title(\"Class imbalance\")\n",
    "plt.show()\n",
    "# determine if any values are missing\n",
    "print(f\"Does the dataset contain any missing values: {df.isnull().values.any()}\")"
   ]
  },
  {
   "cell_type": "markdown",
   "metadata": {
    "slideshow": {
     "slide_type": "subslide"
    }
   },
   "source": [
    "## Solving this problem with a conventional feed forward network\n",
    "First lets try solving this problem with a regular neural network. Since a feed forward network expects a fixed-length input, we'll have to do some feature engineering to represent text data as some vector.\n",
    "\n",
    "Our steps are as follows:\n",
    "1. Clean the text data, removing html tags and punctuation, and setting everything to be lower case:\n",
    "\n",
    "  `The movie was honestly terrible, I hated it <br> sooooooo much!!` -> `the movie was honestly terrible i hated it sooooooo much`\n",
    "\n",
    "2. Tokenize the text:\n",
    "\n",
    "  `the movie was honestly terrible I hated it sooooooo much` -> `['the', 'movie', 'was', 'honestly', 'terrible', 'i', 'hated', 'it', 'sooooooo', 'much']`"
   ]
  },
  {
   "cell_type": "markdown",
   "metadata": {
    "slideshow": {
     "slide_type": "subslide"
    }
   },
   "source": [
    "## Solving this problem with a conventional feed forward network (continued)\n",
    "3. Create a vocabulary object that assigns a number to each word found in the dataset, then transform each token in each record into a one-hot encoding\n",
    "  ![one hot encoding explanation](https://www.researchgate.net/profile/M_Reza_Faisal/publication/301703031/figure/fig2/AS:669970149158914@1536744739074/Example-of-text-representation-by-one-hot-vector.png)\n",
    "4. For each record, flatten the series of vectors into a single vector representing all of the words present in the review\n",
    "  *Note that this step is only needed for the feed forward network*"
   ]
  },
  {
   "cell_type": "markdown",
   "metadata": {
    "slideshow": {
     "slide_type": "subslide"
    }
   },
   "source": [
    "## Doing the transformation"
   ]
  },
  {
   "cell_type": "code",
   "execution_count": 6,
   "metadata": {
    "slideshow": {
     "slide_type": "-"
    }
   },
   "outputs": [],
   "source": [
    "# transform sentiment column into binary value\n",
    "df['sentiment_binary'] = df['sentiment'].apply(lambda x: (1 if x == 'positive' else 0))\n",
    "\n",
    "# first, split the dataset into training and testing sets\n",
    "X_train, X_test, y_train, y_test = train_test_split(df['review'],\n",
    "                                                    df['sentiment_binary'], test_size=.2, random_state=42)\n",
    "\n",
    "MAX_WORDS = 3000 # set vector size (arbritrarily) to 3000\n",
    "tokenizer = K.preprocessing.text.Tokenizer(num_words=MAX_WORDS, lower=True)\n",
    "tokenizer.fit_on_texts(X_train) # feed all training reviews to build vocabulary\n",
    "\n",
    "# convert text representation into vector of binary values (1 corresponding to the presence of a specific word)\n",
    "X_train_bow = tokenizer.texts_to_matrix(X_train)\n",
    "X_test_bow = tokenizer.texts_to_matrix(X_test)"
   ]
  },
  {
   "cell_type": "markdown",
   "metadata": {
    "slideshow": {
     "slide_type": "notes"
    }
   },
   "source": [
    "* first convert the sentiment column into a binary column (0 or 1)\n",
    "* split the dataset into train and test sets\n",
    "* fit the tokenizer on **only the test set**\n",
    "* convert the test and train reviews (X) into bag-of-words representation"
   ]
  },
  {
   "cell_type": "markdown",
   "metadata": {
    "slideshow": {
     "slide_type": "subslide"
    }
   },
   "source": [
    "## Bag-of-what?\n",
    "![bow example](https://cdn-media-1.freecodecamp.org/images/1*j3HUg18QwjDJTJwW9ja5-Q.png)"
   ]
  },
  {
   "cell_type": "code",
   "execution_count": 10,
   "metadata": {
    "scrolled": true,
    "slideshow": {
     "slide_type": "-"
    }
   },
   "outputs": [
    {
     "name": "stdout",
     "output_type": "stream",
     "text": [
      "Raw text: I don't know how this movie received so many positive reviews on this site! I'm a big vonnegut fan and am very familiar with the story this Showtime original film bastardized beyond belief, but even if I wasn't, the poor acting, VERY poor casting (Sean Astin as the brilliant, athletic, and all around individual, Harrison?? The guy's completely generic!) and sub-standard writing rendered this tripe barely watchable. Someone pointed out how cute that Maculay Culkin line was. If you read that and thought that was pure comic brilliance (sadly, it probably was the most INTENTIONALLY funny part of the movie), maybe you'll like this movie. But if you're a Vonnegut fan or not completely insane, don't see it. Please. \n",
      "\n",
      "Bag-of-words representation: [0. 1. 1. ... 0. 0. 0.] \n",
      "\n",
      "Tokenizer most common words: {1: 'the', 2: 'and', 3: 'a', 4: 'of', 5: 'to', 6: 'is', 7: 'br', 8: 'in', 9: 'it', 10: 'i', 11: 'this', 12: 'that', 13: 'was', 14: 'as', 15: 'for', 16: 'with', 17: 'movie', 18: 'but', 19: 'film', 20: 'on'}\n"
     ]
    }
   ],
   "source": [
    "# some randomly picked review\n",
    "print(\"Raw text:\", X_train.to_list()[5], \"\\n\")\n",
    "\n",
    "# bag-of-words representation\n",
    "print(\"Bag-of-words representation:\", X_train_bow[5], \"\\n\")\n",
    "\n",
    "print(\"Tokenizer most common words:\", dict(list(tokenizer.index_word.items())[:20]))"
   ]
  },
  {
   "cell_type": "markdown",
   "metadata": {
    "slideshow": {
     "slide_type": "notes"
    }
   },
   "source": [
    "Notice that this is a very lossy representation. A lot of information is lost turning this paragraph of text into a simple set of words."
   ]
  },
  {
   "cell_type": "markdown",
   "metadata": {
    "slideshow": {
     "slide_type": "subslide"
    }
   },
   "source": [
    "## Feed forward network"
   ]
  },
  {
   "cell_type": "code",
   "execution_count": 11,
   "metadata": {
    "cell_style": "center",
    "slideshow": {
     "slide_type": "-"
    }
   },
   "outputs": [
    {
     "name": "stdout",
     "output_type": "stream",
     "text": [
      "Model: \"sequential\"\n",
      "_________________________________________________________________\n",
      "Layer (type)                 Output Shape              Param #   \n",
      "=================================================================\n",
      "dense (Dense)                (None, 16)                48016     \n",
      "_________________________________________________________________\n",
      "dense_1 (Dense)              (None, 16)                272       \n",
      "_________________________________________________________________\n",
      "dense_2 (Dense)              (None, 1)                 17        \n",
      "=================================================================\n",
      "Total params: 48,305\n",
      "Trainable params: 48,305\n",
      "Non-trainable params: 0\n",
      "_________________________________________________________________\n"
     ]
    }
   ],
   "source": [
    "bow_model = K.models.Sequential([\n",
    "    K.layers.Dense(16, activation='relu', input_shape=(MAX_WORDS,)),\n",
    "    K.layers.Dense(16, activation='relu'),\n",
    "    K.layers.Dense(1, activation='sigmoid')\n",
    "])\n",
    "bow_model.compile(optimizer='adam', loss='binary_crossentropy', metrics=['accuracy'])\n",
    "bow_model.summary()"
   ]
  },
  {
   "cell_type": "markdown",
   "metadata": {
    "slideshow": {
     "slide_type": "subslide"
    }
   },
   "source": [
    "## Training the network"
   ]
  },
  {
   "cell_type": "code",
   "execution_count": 12,
   "metadata": {
    "cell_style": "split",
    "slideshow": {
     "slide_type": "-"
    }
   },
   "outputs": [
    {
     "name": "stdout",
     "output_type": "stream",
     "text": [
      "Epoch 1/2\n",
      "1250/1250 [==============================] - 2s 1ms/step - loss: 0.3296 - accuracy: 0.8620 - val_loss: 0.2855 - val_accuracy: 0.8784\n",
      "Epoch 2/2\n",
      "1250/1250 [==============================] - 1s 1ms/step - loss: 0.2543 - accuracy: 0.8971 - val_loss: 0.2746 - val_accuracy: 0.8837\n"
     ]
    }
   ],
   "source": [
    "bow_history = bow_model.fit(X_train_bow, y_train,\n",
    "    batch_size=32, epochs=2,\n",
    "    validation_data=(X_test_bow, y_test))"
   ]
  },
  {
   "cell_type": "code",
   "execution_count": 13,
   "metadata": {
    "cell_style": "split",
    "slideshow": {
     "slide_type": "fragment"
    }
   },
   "outputs": [
    {
     "data": {
      "application/vnd.jupyter.widget-view+json": {
       "model_id": "89b841a5866b46698f89d67ef9023c83",
       "version_major": 2,
       "version_minor": 0
      },
      "text/plain": [
       "interactive(children=(Text(value='Insert your review here', description='input_text'), Output()), _dom_classes…"
      ]
     },
     "metadata": {},
     "output_type": "display_data"
    }
   ],
   "source": [
    "@interact(input_text='Insert your review here')\n",
    "def predict_bow(input_text):\n",
    "    bow = tokenizer.texts_to_matrix([input_text])\n",
    "    raw = bow_model.predict(bow)[0][0]\n",
    "    prediction = 'positive' if raw > .5 else 'negative'\n",
    "    return f'prediction: {prediction} (raw: {raw})'"
   ]
  },
  {
   "cell_type": "markdown",
   "metadata": {
    "slideshow": {
     "slide_type": "subslide"
    }
   },
   "source": [
    "## What's the problem?\n",
    "Information is lost in transforming sequential data into a fixed vector, including:\n",
    "* The order of tokens within the text ('i hate you' vs 'you hate me') have very different meanings\n",
    "* Structure and relationship of words is lost\n",
    "* Repeated tokens do not effect output vector\n",
    "* Stop words (such as 'I', 'the', 'it') are present in most records, they lose meaning without structure. Some of this data can be preserved with more feature engineering (e.g. by using `tf-idf` to preserve relative frequencies of words in the record)."
   ]
  },
  {
   "cell_type": "code",
   "execution_count": 14,
   "metadata": {
    "slideshow": {
     "slide_type": "fragment"
    }
   },
   "outputs": [
    {
     "data": {
      "text/plain": [
       "'prediction: positive (raw: 0.6211634874343872)'"
      ]
     },
     "execution_count": 14,
     "metadata": {},
     "output_type": "execute_result"
    }
   ],
   "source": [
    "predict_bow('This movie was not amazing')"
   ]
  },
  {
   "cell_type": "code",
   "execution_count": 15,
   "metadata": {
    "slideshow": {
     "slide_type": "fragment"
    }
   },
   "outputs": [
    {
     "data": {
      "text/plain": [
       "'prediction: negative (raw: 0.210248202085495)'"
      ]
     },
     "execution_count": 15,
     "metadata": {},
     "output_type": "execute_result"
    }
   ],
   "source": [
    "predict_bow('This movie was not terrible')"
   ]
  },
  {
   "cell_type": "markdown",
   "metadata": {
    "slideshow": {
     "slide_type": "notes"
    }
   },
   "source": [
    "More information can be preserved by using bag-of-ngrams as inputs instead of bag-of-words. However, this drastically increases the number of input dimensions that would be needed."
   ]
  },
  {
   "cell_type": "markdown",
   "metadata": {
    "slideshow": {
     "slide_type": "slide"
    }
   },
   "source": [
    "# Introducing: Recurrent Neural Networks!"
   ]
  },
  {
   "cell_type": "markdown",
   "metadata": {
    "slideshow": {
     "slide_type": "subslide"
    }
   },
   "source": [
    "## Preprocessing for sequential inputs\n",
    "Now that we have entered the realm of RNNs, we can replace our bag-of-words representation with a representation that describes the dataset better."
   ]
  },
  {
   "cell_type": "code",
   "execution_count": 16,
   "metadata": {
    "scrolled": true,
    "slideshow": {
     "slide_type": "fragment"
    }
   },
   "outputs": [
    {
     "name": "stdout",
     "output_type": "stream",
     "text": [
      "I don't know how this movie received so many positive reviews on this site! I'm a big vonnegut fan and am very familiar with the story this Showtime original film bastardized beyond belief, but even if I wasn't, the poor acting, VERY poor casting (Sean Astin as the brilliant, athletic, and all around individual, Harrison?? The guy's completely generic!) and sub-standard writing rendered this tripe barely watchable. Someone pointed out how cute that Maculay Culkin line was. If you read that and thought that was pure comic brilliance (sadly, it probably was the most INTENTIONALLY funny part of the movie), maybe you'll like this movie. But if you're a Vonnegut fan or not completely insane, don't see it. Please. -> [10, 89, 118, 86, 11, 17, 1972, 34, 107, 1152, 825, 20, 11, 2060, 144, 3, 193, 323, 2, 235, 51, 1083, 16, 1, 62, 11, 209, 19, 666, 2614, 18, 57, 43, 10, 291, 1, 333, 112, 51, 333, 1054, 1897, 14, 1, 511, 2, 29, 183, 2136, 1, 337, 2, 1377, 1247, 486, 11, 1179, 1722, 295, 41, 86, 1032, 12, 349, 13, 43, 22, 339, 12, 2, 187, 12, 13, 1059, 757, 1055, 9, 237, 13, 1, 88, 154, 173, 4, 1, 17, 272, 466, 37, 11, 17, 18, 43, 338, 3, 323, 38, 21, 337, 2061, 89, 64, 9, 590]\n",
      "\n"
     ]
    }
   ],
   "source": [
    "# convert text into sequences of tokens\n",
    "X_train_seq = tokenizer.texts_to_sequences(X_train)\n",
    "X_test_seq = tokenizer.texts_to_sequences(X_test)\n",
    "\n",
    "print(f'{X_train.to_list()[5]} -> {X_train_seq[5]}\\n')\n"
   ]
  },
  {
   "cell_type": "markdown",
   "metadata": {
    "slideshow": {
     "slide_type": "subslide"
    }
   },
   "source": [
    "## Padding sequences\n",
    "To assist with batching, pad sequences to all be the same length. This does not effect the output of the network, but it will cut off sequences of words longer then the specified length."
   ]
  },
  {
   "cell_type": "code",
   "execution_count": 17,
   "metadata": {
    "cell_style": "split",
    "slideshow": {
     "slide_type": "fragment"
    }
   },
   "outputs": [
    {
     "data": {
      "image/png": "[encoded data removed]",
      "text/plain": [
       "<Figure size 432x288 with 1 Axes>"
      ]
     },
     "metadata": {
      "needs_background": "light"
     },
     "output_type": "display_data"
    }
   ],
   "source": [
    "pd.Series(X_train_seq).apply(lambda x: len(x))\\\n",
    "    .plot(kind='hist')\n",
    "plt.title(\"Distribution of review lengths\")\n",
    "plt.show()\n",
    "\n",
    "# arbritrarily choose 500 words for padding\n",
    "SEQ_LEN = 500"
   ]
  },
  {
   "cell_type": "code",
   "execution_count": 18,
   "metadata": {
    "cell_style": "split",
    "scrolled": true,
    "slideshow": {
     "slide_type": "fragment"
    }
   },
   "outputs": [
    {
     "name": "stdout",
     "output_type": "stream",
     "text": [
      "First 10 characters: [0 0 0 0 0 0 0 0 0 0]\n",
      "Last 10 characters: [   3  323   38   21  337 2061   89   64    9  590]\n"
     ]
    }
   ],
   "source": [
    "X_train_seq = K.preprocessing.sequence.pad_sequences(\n",
    "    X_train_seq, maxlen=SEQ_LEN)\n",
    "X_test_seq = K.preprocessing.sequence.pad_sequences(\n",
    "    X_test_seq, maxlen=SEQ_LEN)\n",
    "\n",
    "# notice, that the beginning has been padded with 0s\n",
    "print(\"First 10 characters:\", X_train_seq[5][:10])\n",
    "print(\"Last 10 characters:\", X_train_seq[5][-10:])"
   ]
  },
  {
   "cell_type": "markdown",
   "metadata": {
    "slideshow": {
     "slide_type": "notes"
    }
   },
   "source": [
    "Note that padding sequences is not required unless you are batching your inputs. You can still use longer sequences during inference."
   ]
  },
  {
   "cell_type": "markdown",
   "metadata": {
    "slideshow": {
     "slide_type": "subslide"
    }
   },
   "source": [
    "## Simple RNNs"
   ]
  },
  {
   "cell_type": "markdown",
   "metadata": {
    "cell_style": "split",
    "slideshow": {
     "slide_type": "-"
    }
   },
   "source": [
    "![rnn diagram](https://upload.wikimedia.org/wikipedia/commons/thumb/b/b5/Recurrent_neural_network_unfold.svg/1920px-Recurrent_neural_network_unfold.svg.png)\n",
    "* Recurrent neural networks contain loops!\n",
    "    * when you unroll the network, it's really just a vanilla neural network with the same cell copied over and over"
   ]
  },
  {
   "cell_type": "markdown",
   "metadata": {
    "cell_style": "split",
    "slideshow": {
     "slide_type": "-"
    }
   },
   "source": [
    "* Data is fed in one step at a time\n",
    "    * the output of the previous step is concatenated with the next input\n",
    "    * Once all data has been fed, the final result gets sent to the next hidden layer\n",
    "    * (and the neural network carries on as if it were a normal feed forward network)\n",
    "    * Backpropogation works the same, except that working backwards you are updating the same weights several times *(note this causes problems)*"
   ]
  },
  {
   "cell_type": "markdown",
   "metadata": {
    "slideshow": {
     "slide_type": "notes"
    }
   },
   "source": [
    "* The idea of unrolling has been around since at least 1969, the term 'Recurrent Neural Network' was probably introduced in 1985"
   ]
  },
  {
   "cell_type": "markdown",
   "metadata": {
    "slideshow": {
     "slide_type": "subslide"
    }
   },
   "source": [
    "## Building and training an RNN"
   ]
  },
  {
   "cell_type": "code",
   "execution_count": 19,
   "metadata": {
    "cell_style": "split",
    "slideshow": {
     "slide_type": "-"
    }
   },
   "outputs": [
    {
     "name": "stdout",
     "output_type": "stream",
     "text": [
      "Model: \"sequential_1\"\n",
      "_________________________________________________________________\n",
      "Layer (type)                 Output Shape              Param #   \n",
      "=================================================================\n",
      "embedding (Embedding)        (None, None, 16)          48000     \n",
      "_________________________________________________________________\n",
      "simple_rnn (SimpleRNN)       (None, 16)                528       \n",
      "_________________________________________________________________\n",
      "dense_3 (Dense)              (None, 16)                272       \n",
      "_________________________________________________________________\n",
      "dense_4 (Dense)              (None, 1)                 17        \n",
      "=================================================================\n",
      "Total params: 48,817\n",
      "Trainable params: 48,817\n",
      "Non-trainable params: 0\n",
      "_________________________________________________________________\n"
     ]
    }
   ],
   "source": [
    "rnn_model = K.models.Sequential([\n",
    "    # convert index representation into one hot vector\n",
    "    K.layers.Embedding(MAX_WORDS, 16),\n",
    "    # RNN of 16 dense layers\n",
    "    K.layers.SimpleRNN(16),\n",
    "    # use output state in classification\n",
    "    K.layers.Dense(16, activation='relu'),\n",
    "    K.layers.Dense(1, activation='sigmoid')\n",
    "])\n",
    "rnn_model.compile(optimizer='adam', loss='binary_crossentropy', metrics=['accuracy'])\n",
    "rnn_model.summary()"
   ]
  },
  {
   "cell_type": "code",
   "execution_count": 20,
   "metadata": {
    "cell_style": "split",
    "slideshow": {
     "slide_type": "fragment"
    }
   },
   "outputs": [
    {
     "name": "stdout",
     "output_type": "stream",
     "text": [
      "Epoch 1/2\n",
      "1250/1250 [==============================] - 59s 47ms/step - loss: 0.5870 - accuracy: 0.6716 - val_loss: 0.4763 - val_accuracy: 0.7870\n",
      "Epoch 2/2\n",
      "1250/1250 [==============================] - 60s 48ms/step - loss: 0.5047 - accuracy: 0.7511 - val_loss: 0.5060 - val_accuracy: 0.7611\n"
     ]
    }
   ],
   "source": [
    "rnn_history = rnn_model.fit(X_train_seq, y_train,\n",
    "    batch_size=32, epochs=2,\n",
    "    validation_data=(X_test_seq, y_test))"
   ]
  },
  {
   "cell_type": "code",
   "execution_count": 21,
   "metadata": {
    "cell_style": "split",
    "slideshow": {
     "slide_type": "-"
    }
   },
   "outputs": [
    {
     "data": {
      "application/vnd.jupyter.widget-view+json": {
       "model_id": "cd4deefa8f95486bb2364f0f55f09c36",
       "version_major": 2,
       "version_minor": 0
      },
      "text/plain": [
       "interactive(children=(Text(value='Insert your review here', description='input_text'), Output()), _dom_classes…"
      ]
     },
     "metadata": {},
     "output_type": "display_data"
    }
   ],
   "source": [
    "@interact(input_text='Insert your review here')\n",
    "def predict_rnn(input_text):\n",
    "    seq = tokenizer.texts_to_sequences([input_text])\n",
    "    raw = rnn_model.predict(seq)[0][0]\n",
    "    prediction = 'positive' if raw > .5 else 'negative'\n",
    "    return f'prediction: {prediction} (raw: {raw})'"
   ]
  },
  {
   "cell_type": "markdown",
   "metadata": {
    "slideshow": {
     "slide_type": "notes"
    }
   },
   "source": [
    "* Notice how much slower this trains, taking roughly 2ms per sample on my machine, compared to 52us/s for the feed forward network\n",
    "    * despite having roughly the same number of parameters (~48,000)\n",
    "* Try the inputs `This movie was not amazing` and `This movie was not terrible`\n",
    "    * Same problem, has it learned these relations?"
   ]
  },
  {
   "cell_type": "markdown",
   "metadata": {
    "slideshow": {
     "slide_type": "subslide"
    }
   },
   "source": [
    "## Vanishing gradient problem\n",
    "Vanilla RNNs in particular tend to suffer from the vanishing gradient problem, this is because:\n",
    "* When RNNs are unrolled, they are very deep\n",
    "* The same weights are being updated over and over again\n",
    "* Information is lost between time steps, making it difficult to represent long range dependencies\n",
    "\n",
    "In the end, this means that RNNs tend to forget old information very quickly!"
   ]
  },
  {
   "cell_type": "markdown",
   "metadata": {
    "slideshow": {
     "slide_type": "subslide"
    }
   },
   "source": [
    "## LSTM (Long Short-Term Memory) networks"
   ]
  },
  {
   "cell_type": "markdown",
   "metadata": {
    "cell_style": "split",
    "slideshow": {
     "slide_type": "-"
    }
   },
   "source": [
    "![lstm diagram](https://upload.wikimedia.org/wikipedia/commons/thumb/6/63/Long_Short-Term_Memory.svg/1920px-Long_Short-Term_Memory.svg.png)"
   ]
  },
  {
   "cell_type": "markdown",
   "metadata": {
    "cell_style": "split",
    "slideshow": {
     "slide_type": "-"
    }
   },
   "source": [
    "* First described in 1997, and refined through 2000\n",
    "* Designed explicitly to overcome vanishing gradient problem, and allow for long range dependencies\n",
    "* Used extensively today by Facebook, Google, Amazon, and Apple\n",
    "* Can still suffer from **exploding gradients**"
   ]
  },
  {
   "cell_type": "markdown",
   "metadata": {
    "slideshow": {
     "slide_type": "subslide"
    }
   },
   "source": [
    "## But how does it work?\n",
    "The core idea behind an LSTM is the interaction between the `cell state`, `forget gate`, `input gate`, and `output gate`.\n",
    "![lstm detailed diagram](https://colah.github.io/posts/2015-08-Understanding-LSTMs/img/LSTM3-chain.png)"
   ]
  },
  {
   "cell_type": "markdown",
   "metadata": {
    "slideshow": {
     "slide_type": "notes"
    }
   },
   "source": [
    "* The `cell state` is the line of data running on top of the diagram\n",
    "    * Long range dependencies are stored here.\n",
    "    * This is what allows the network to overcome the **vanishing gradient problem**\n",
    "        * because it is allowed to *flow* from one cell to another\n",
    "* The `forget gate` is represented by the left-most `sigmoid` layer leading into  the `cell state`\n",
    "    * Since the `sigmoid` activation function bounds the input between `0` and `1`\n",
    "        * this functionally lets the LSTM choose how much to forget\n",
    "* The `input gate` is made up of a `sigmoid` and `tanh` layer\n",
    "    * It controlls what information is *added* to the `cell state`\n",
    "    * The `tanh` and `sigmoid` layers are multiplied together, and their output is added to the `cell state`\n",
    "* The `output gate` is the part on the right, made of a `sigmoid` layer and a `tanh` activation function\n",
    "    * `sigmoid` layer of cell input multiplied by the `cell state`\n",
    "    * Output is sent to next cell, as well as to the `output state`.\n",
    "    * The next cell concatenates its input with the previous `output state`"
   ]
  },
  {
   "cell_type": "markdown",
   "metadata": {
    "slideshow": {
     "slide_type": "subslide"
    }
   },
   "source": [
    "# Building and training an LSTM"
   ]
  },
  {
   "cell_type": "code",
   "execution_count": 22,
   "metadata": {
    "cell_style": "split",
    "scrolled": false,
    "slideshow": {
     "slide_type": "-"
    }
   },
   "outputs": [
    {
     "name": "stdout",
     "output_type": "stream",
     "text": [
      "Model: \"sequential_2\"\n",
      "_________________________________________________________________\n",
      "Layer (type)                 Output Shape              Param #   \n",
      "=================================================================\n",
      "embedding_1 (Embedding)      (None, None, 16)          48000     \n",
      "_________________________________________________________________\n",
      "lstm (LSTM)                  (None, 16)                2112      \n",
      "_________________________________________________________________\n",
      "dense_5 (Dense)              (None, 16)                272       \n",
      "_________________________________________________________________\n",
      "dense_6 (Dense)              (None, 1)                 17        \n",
      "=================================================================\n",
      "Total params: 50,401\n",
      "Trainable params: 50,401\n",
      "Non-trainable params: 0\n",
      "_________________________________________________________________\n"
     ]
    }
   ],
   "source": [
    "lstm_model = K.models.Sequential([\n",
    "    # convert index representation into one hot vector\n",
    "    K.layers.Embedding(MAX_WORDS, 16),\n",
    "    # RNN of 16 dense layers\n",
    "    K.layers.LSTM(16),\n",
    "    # use output state in classification\n",
    "    K.layers.Dense(16, activation='relu'),\n",
    "    K.layers.Dense(1, activation='sigmoid')\n",
    "])\n",
    "lstm_model.compile(optimizer='adam', loss='binary_crossentropy', metrics=['accuracy'])\n",
    "lstm_model.summary()"
   ]
  },
  {
   "cell_type": "code",
   "execution_count": 23,
   "metadata": {
    "cell_style": "split",
    "scrolled": true,
    "slideshow": {
     "slide_type": "fragment"
    }
   },
   "outputs": [
    {
     "name": "stdout",
     "output_type": "stream",
     "text": [
      "Epoch 1/2\n",
      "1250/1250 [==============================] - 97s 77ms/step - loss: 0.3790 - accuracy: 0.8286 - val_loss: 0.2800 - val_accuracy: 0.8827\n",
      "Epoch 2/2\n",
      "1250/1250 [==============================] - 103s 82ms/step - loss: 0.2677 - accuracy: 0.8928 - val_loss: 0.2861 - val_accuracy: 0.8782\n"
     ]
    }
   ],
   "source": [
    "lstm_history = lstm_model.fit(X_train_seq, y_train,\n",
    "    batch_size=32, epochs=2,\n",
    "    validation_data=(X_test_seq, y_test))"
   ]
  },
  {
   "cell_type": "code",
   "execution_count": 24,
   "metadata": {
    "cell_style": "split",
    "slideshow": {
     "slide_type": "-"
    }
   },
   "outputs": [
    {
     "data": {
      "application/vnd.jupyter.widget-view+json": {
       "model_id": "b0978bb2517146028e50cebaca63c223",
       "version_major": 2,
       "version_minor": 0
      },
      "text/plain": [
       "interactive(children=(Text(value='Insert your review here', description='input_text'), Output()), _dom_classes…"
      ]
     },
     "metadata": {},
     "output_type": "display_data"
    }
   ],
   "source": [
    "@interact(input_text='Insert your review here')\n",
    "def predict_lstm(input_text):\n",
    "    seq = tokenizer.texts_to_sequences([input_text])\n",
    "    raw = lstm_model.predict(seq)[0][0]\n",
    "    prediction = 'positive' if raw > .5 else 'negative'\n",
    "    return f'prediction: {prediction} (raw: {raw})'"
   ]
  },
  {
   "cell_type": "markdown",
   "metadata": {
    "slideshow": {
     "slide_type": "notes"
    }
   },
   "source": [
    "* Notice that there are a few more parameters (50,000 vs 48,000) due to the added gates\n",
    "* Training is even slower this time! Up to 3ms/sample on my machine"
   ]
  },
  {
   "cell_type": "markdown",
   "metadata": {
    "slideshow": {
     "slide_type": "subslide"
    }
   },
   "source": [
    "## LSTM Variants\n",
    "Several variants of the vanilla LSTM exist.\n",
    "\n",
    "*diagrams are via Chris Olah's blog. please check his website out, a lot of great resources*"
   ]
  },
  {
   "cell_type": "markdown",
   "metadata": {
    "cell_style": "split",
    "slideshow": {
     "slide_type": "-"
    }
   },
   "source": [
    "### Peephole LSTM\n",
    "![peephole lstm](https://colah.github.io/posts/2015-08-Understanding-LSTMs/img/LSTM3-var-peepholes.png)\n"
   ]
  },
  {
   "cell_type": "markdown",
   "metadata": {
    "cell_style": "split",
    "slideshow": {
     "slide_type": "-"
    }
   },
   "source": [
    "### LSTM with coupled forget/input gates\n",
    "![coupled lstm](https://colah.github.io/posts/2015-08-Understanding-LSTMs/img/LSTM3-var-tied.png)"
   ]
  },
  {
   "cell_type": "markdown",
   "metadata": {
    "slideshow": {
     "slide_type": "notes"
    }
   },
   "source": [
    "* these variants have been shown to have similar performance\n",
    "    * there are **MANY** more variants\n",
    "* here is a very popular (and widely used) variant:"
   ]
  },
  {
   "cell_type": "markdown",
   "metadata": {
    "cell_style": "split",
    "slideshow": {
     "slide_type": "subslide"
    }
   },
   "source": [
    "## GRU (Gated Recurrent Unit) networks\n",
    "![gru diagram](https://upload.wikimedia.org/wikipedia/commons/thumb/5/5f/Gated_Recurrent_Unit.svg/1920px-Gated_Recurrent_Unit.svg.png)"
   ]
  },
  {
   "cell_type": "markdown",
   "metadata": {
    "cell_style": "split",
    "slideshow": {
     "slide_type": "-"
    }
   },
   "source": [
    "* Described in 2014 by Kyunghyun Cho et al.\n",
    "* Simpler than an LSTM with fewer parameters\n",
    "    * Merges `forget` and `input` gates\n",
    "    * Merges `cell state` with `output state`\n",
    "* Shown to have similar performance in music, speech, and natural language processing tasks\n",
    "* Shown to have ever better performance on smaller datasets\n",
    "\n",
    "* LSTMs have been shown to be stronger then a GRU in tasks such as unbounded counting and LSTMs consistently outperform GRUs in machine translation"
   ]
  },
  {
   "cell_type": "markdown",
   "metadata": {
    "slideshow": {
     "slide_type": "subslide"
    }
   },
   "source": [
    "## Building and training a GRU"
   ]
  },
  {
   "cell_type": "code",
   "execution_count": 25,
   "metadata": {
    "cell_style": "split",
    "slideshow": {
     "slide_type": "-"
    }
   },
   "outputs": [
    {
     "name": "stdout",
     "output_type": "stream",
     "text": [
      "Model: \"sequential_3\"\n",
      "_________________________________________________________________\n",
      "Layer (type)                 Output Shape              Param #   \n",
      "=================================================================\n",
      "embedding_2 (Embedding)      (None, None, 16)          48000     \n",
      "_________________________________________________________________\n",
      "gru (GRU)                    (None, 16)                1632      \n",
      "_________________________________________________________________\n",
      "dense_7 (Dense)              (None, 16)                272       \n",
      "_________________________________________________________________\n",
      "dense_8 (Dense)              (None, 1)                 17        \n",
      "=================================================================\n",
      "Total params: 49,921\n",
      "Trainable params: 49,921\n",
      "Non-trainable params: 0\n",
      "_________________________________________________________________\n"
     ]
    }
   ],
   "source": [
    "gru_model = K.models.Sequential([\n",
    "    # convert index representation into one hot vector\n",
    "    K.layers.Embedding(MAX_WORDS, 16),\n",
    "    # RNN of 16 dense layers\n",
    "    K.layers.GRU(16),\n",
    "    # use output state in classification\n",
    "    K.layers.Dense(16, activation='relu'),\n",
    "    K.layers.Dense(1, activation='sigmoid')\n",
    "])\n",
    "gru_model.compile(optimizer='adam', loss='binary_crossentropy', metrics=['accuracy'])\n",
    "gru_model.summary()"
   ]
  },
  {
   "cell_type": "code",
   "execution_count": 26,
   "metadata": {
    "cell_style": "split",
    "slideshow": {
     "slide_type": "fragment"
    }
   },
   "outputs": [
    {
     "name": "stdout",
     "output_type": "stream",
     "text": [
      "Epoch 1/2\n",
      "1250/1250 [==============================] - 97s 78ms/step - loss: 0.4055 - accuracy: 0.8062 - val_loss: 0.2842 - val_accuracy: 0.8834\n",
      "Epoch 2/2\n",
      "1250/1250 [==============================] - 99s 79ms/step - loss: 0.2658 - accuracy: 0.8932 - val_loss: 0.2536 - val_accuracy: 0.8982\n"
     ]
    }
   ],
   "source": [
    "gru_history = gru_model.fit(X_train_seq, y_train,\n",
    "    batch_size=32, epochs=2,\n",
    "    validation_data=(X_test_seq, y_test))"
   ]
  },
  {
   "cell_type": "code",
   "execution_count": 27,
   "metadata": {
    "cell_style": "split",
    "slideshow": {
     "slide_type": "-"
    }
   },
   "outputs": [
    {
     "data": {
      "application/vnd.jupyter.widget-view+json": {
       "model_id": "8bca53cb59f0439092e4f09fd87b5000",
       "version_major": 2,
       "version_minor": 0
      },
      "text/plain": [
       "interactive(children=(Text(value='Insert your review here', description='input_text'), Output()), _dom_classes…"
      ]
     },
     "metadata": {},
     "output_type": "display_data"
    }
   ],
   "source": [
    "@interact(input_text='Insert your review here')\n",
    "def predict_gru(input_text):\n",
    "    seq = tokenizer.texts_to_sequences([input_text])\n",
    "    raw = gru_model.predict(seq)[0][0]\n",
    "    prediction = 'positive' if raw > .5 else 'negative'\n",
    "    return f'prediction: {prediction} (raw: {raw})'"
   ]
  },
  {
   "cell_type": "markdown",
   "metadata": {
    "slideshow": {
     "slide_type": "subslide"
    }
   },
   "source": [
    "## Breakdown / Results\n",
    "Some analysis:\n",
    "* Accuracy increases a bit with the LSTM and GRU networks.\n",
    "    * LSTM seems to begin overfitting even on two epochs\n",
    "* None of the networks learned negation (e.g. the phrase `not great` or `not terrible` would not result in the output becoming more positive\n",
    "    * *Note that this is really subjective to me, another reviewer may still consider `not terrible` to be a negative review*\n",
    "* The domain of long-form text reviews may not apply well to our short snippets of text"
   ]
  },
  {
   "cell_type": "markdown",
   "metadata": {
    "slideshow": {
     "slide_type": "subslide"
    }
   },
   "source": [
    "## Simple models are explainable (at least, easier to explain)"
   ]
  },
  {
   "cell_type": "code",
   "execution_count": 28,
   "metadata": {
    "slideshow": {
     "slide_type": "-"
    }
   },
   "outputs": [
    {
     "name": "stdout",
     "output_type": "stream",
     "text": [
      "LR model accuracy: 0.8835\n"
     ]
    }
   ],
   "source": [
    "lr_model = LogisticRegression().fit(X_train_bow, y_train)\n",
    "print(\"LR model accuracy:\", lr_model.score(X_test_bow, y_test))"
   ]
  },
  {
   "cell_type": "code",
   "execution_count": 29,
   "metadata": {
    "slideshow": {
     "slide_type": "-"
    }
   },
   "outputs": [],
   "source": [
    "weight_comparison = pd.concat([\n",
    "    pd.DataFrame({'type': \"ZERO MASK\"}, index=[0]), # tokenizer reserves 0-index for masking\n",
    "    pd.DataFrame.from_dict(tokenizer.index_word, orient='index', columns=['type']).iloc[:2999] # tokenizer words by index\n",
    "])\n",
    "weight_comparison['lr_weight'] = lr_model.coef_[0] # attach weights from logistic regression model"
   ]
  },
  {
   "cell_type": "code",
   "execution_count": 30,
   "metadata": {
    "cell_style": "split",
    "slideshow": {
     "slide_type": "fragment"
    }
   },
   "outputs": [
    {
     "data": {
      "image/png": "[encoded data removed]",
      "text/plain": [
       "<Figure size 432x288 with 1 Axes>"
      ]
     },
     "metadata": {
      "needs_background": "light"
     },
     "output_type": "display_data"
    }
   ],
   "source": [
    "weight_comparison.reindex(weight_comparison.lr_weight.sort_values(ascending=False).index).head(10)\\\n",
    "    .plot.bar(x='type', y='lr_weight', color='green')\n",
    "plt.title(\"Most positive words\")\n",
    "plt.show()"
   ]
  },
  {
   "cell_type": "code",
   "execution_count": 31,
   "metadata": {
    "cell_style": "split",
    "slideshow": {
     "slide_type": "fragment"
    }
   },
   "outputs": [
    {
     "data": {
      "image/png": "[encoded data removed]",
      "text/plain": [
       "<Figure size 432x288 with 1 Axes>"
      ]
     },
     "metadata": {
      "needs_background": "light"
     },
     "output_type": "display_data"
    }
   ],
   "source": [
    "weight_comparison.reindex(weight_comparison.lr_weight.sort_values(ascending=True).index).head(10)\\\n",
    "    .plot.bar(x='type', y='lr_weight', color='red')\n",
    "plt.title(\"Most negative words\")\n",
    "plt.show()"
   ]
  },
  {
   "cell_type": "markdown",
   "metadata": {},
   "source": [
    "## Simple models are explainable (continued)"
   ]
  },
  {
   "cell_type": "code",
   "execution_count": 32,
   "metadata": {
    "slideshow": {
     "slide_type": "subslide"
    }
   },
   "outputs": [
    {
     "data": {
      "application/vnd.jupyter.widget-view+json": {
       "model_id": "193e7a01910248d3a8fa43be12b3a751",
       "version_major": 2,
       "version_minor": 0
      },
      "text/plain": [
       "interactive(children=(Text(value='tony', description='word'), Output()), _dom_classes=('widget-interact',))"
      ]
     },
     "metadata": {},
     "output_type": "display_data"
    }
   ],
   "source": [
    "# for those who are interested, what's the deal with \"tony\" being so positive\n",
    "@interact(word='tony')\n",
    "def plot_weight_of_word(word):\n",
    "    # get popularity in dataset\n",
    "    contains_word_selection = df[df.review.str.lower().str.contains(word)]\n",
    "    if contains_word_selection.empty:\n",
    "        return f'{word} is not found in the IMDB Reviews Dataset'\n",
    "    contains_word_selection.sentiment.value_counts().plot.pie()\n",
    "    plt.title(f'Popularity of \"*{word}*\" in the IMDB Movie Dataset')\n",
    "    # get weight of LR model\n",
    "    return f'LogisticRegression weights: {list(weight_comparison[weight_comparison.type.str.match(word)].lr_weight)}'"
   ]
  },
  {
   "cell_type": "markdown",
   "metadata": {
    "slideshow": {
     "slide_type": "slide"
    }
   },
   "source": [
    "## What other tasks can RNNs accomplish?\n",
    "In general, RNNs are used to tackle three types of tasks:\n",
    "<table>\n",
    "<thead>\n",
    "  <tr>\n",
    "    <th>Type</th>\n",
    "    <th>Use Cases</th>\n",
    "    <th>Diagram / Example</th>\n",
    "  </tr>\n",
    "</thead>\n",
    "<tbody>\n",
    "  <tr>\n",
    "    <td>sequence to vector</td>\n",
    "    <td>text classification, stock price prediction</td>\n",
    "    <td><img src=\"https://upload.wikimedia.org/wikipedia/commons/thumb/b/b5/Recurrent_neural_network_unfold.svg/1920px-Recurrent_neural_network_unfold.svg.png\" width=\"400\"></td>\n",
    "  </tr>\n",
    "  <tr>\n",
    "    <td>sequence to sequence</td>\n",
    "    <td>document summarization, translation, audio transcription, natural entity recognition</td>\n",
    "    <td><img src=\"https://miro.medium.com/max/700/1*Ismhi-muID5ooWf3ZIQFFg.png\" width=\"400\" height=\"185\"></td>\n",
    "  </tr>\n",
    "  <tr>\n",
    "    <td>vector to sequence</td>\n",
    "    <td>image captioning, text generation, music generation</td>\n",
    "    <td><img src=\"https://raw.githubusercontent.com/yunjey/pytorch-tutorial/master/tutorials/03-advanced/image_captioning/png/model.png\" width=\"400\" height=\"189\"></td>\n",
    "  </tr>\n",
    "</tbody>\n",
    "</table>"
   ]
  },
  {
   "cell_type": "markdown",
   "metadata": {
    "slideshow": {
     "slide_type": "slide"
    }
   },
   "source": [
    "# The problem with RNNs\n",
    "* RNNs are much slower then feed forward networks\n",
    "    * LSTM cells cannot be parallelized, data is fed one step at a time\n",
    "* Internal state is lossy, *vanishing gradient* means older items of the sequence get lost\n",
    "    * Can be addressed with Bidirectional RNNs & attention\n",
    "    * Forward-directional LSTMs tend to forget the beginning of a sequence, Bi-LSTMs tend to forget the middle of a sequence\n",
    "* In general RNNs (especially LSTMs) are very prone to overfitting. Regularization is a must.\n",
    "    * Recurrent dropout is expensive"
   ]
  },
  {
   "cell_type": "markdown",
   "metadata": {
    "slideshow": {
     "slide_type": "slide"
    }
   },
   "source": [
    "# New advances\n",
    "![pyramid of advances](https://iq.opengenus.org/content/images/2020/05/Screenshot-from-2020-05-24-23-48-04.png)\n",
    "The state of NLP and Machine Learning is constantly evolving!"
   ]
  },
  {
   "cell_type": "markdown",
   "metadata": {
    "slideshow": {
     "slide_type": "subslide"
    }
   },
   "source": [
    "## Bidirectional LSTMs\n",
    "![blstm](http://colah.github.io/posts/2015-09-NN-Types-FP/img/RNN-bidirectional.png)\n",
    "* One LSTM is fed in forwards, the other is fed in backwards, the results are concatenated\n",
    "* Can drastically increase performance in text classification/translation/generation tasks\n",
    "    * Can't really be used in next-token-prediction tasks (language models need to be trained differently)\n",
    "* Very simple to use with Keras!\n",
    "    ```python\n",
    "    tf.keras.layers.Bidirectional(tf.keras.layers.LSTM(X))\n",
    "    ```"
   ]
  },
  {
   "attachments": {
    "Screenshot%20from%202020-09-01%2014-39-42.png": {
     "image/png": "[encoded data removed]"
    }
   },
   "cell_type": "markdown",
   "metadata": {
    "cell_style": "split",
    "slideshow": {
     "slide_type": "subslide"
    }
   },
   "source": [
    "## Attention\n",
    "![Screenshot%20from%202020-09-01%2014-39-42.png](attachment:Screenshot%20from%202020-09-01%2014-39-42.png)\n",
    "*Note: diagram from [Chris Olah on attention mechanisms](https://distill.pub/2016/augmented-rnns/#attentional-interfaces)*"
   ]
  },
  {
   "attachments": {
    "Screenshot%20from%202020-09-01%2014-50-41.png": {
     "image/png": "[encoded data removed]"
    }
   },
   "cell_type": "markdown",
   "metadata": {
    "cell_style": "split",
    "slideshow": {
     "slide_type": "-"
    }
   },
   "source": [
    "* A family of techniques used in NLP, audio and vision processing\n",
    "* Can be applied to sequence-to-sequence models (like machine translation)\n",
    "    * For each output token, a context vector is generated telling the network how much it should *pay attention* to the input tokens\n",
    "* Also has easy to use Keras implementations\n",
    "    ```python\n",
    "    tf.keras.layers.AttentionLayer()\n",
    "    ```\n",
    "![Screenshot%20from%202020-09-01%2014-50-41.png](attachment:Screenshot%20from%202020-09-01%2014-50-41.png)"
   ]
  },
  {
   "cell_type": "markdown",
   "metadata": {
    "slideshow": {
     "slide_type": "subslide"
    }
   },
   "source": [
    "## Intro the transformer"
   ]
  },
  {
   "cell_type": "markdown",
   "metadata": {
    "cell_style": "split",
    "slideshow": {
     "slide_type": "-"
    }
   },
   "source": [
    "![bert and elmo (and ernie I guess)](https://media4.s-nbcnews.com/i/newscms/2018_38/2570706/180918-bert-ernie-smithsonian-ew-1240p_2e84c24596832edf3688fcb3e216b1c7.jpg)\n",
    "*see: [BERT (Bidirectional Encoder Representations from Transformers)](https://arxiv.org/abs/1810.04805v2)*"
   ]
  },
  {
   "cell_type": "markdown",
   "metadata": {
    "cell_style": "split",
    "slideshow": {
     "slide_type": "-"
    }
   },
   "source": [
    "* Proposed in 2017 with the paper [Attention is All You Need](https://arxiv.org/abs/1706.03762)\n",
    "    * Has Keras implementation (through seperate package)\n",
    "* Designed specifically for language modeling\n",
    "* NOT a recurrent neural network. Just a very complicated feed-forward network\n",
    "    * Made up of an encoder and decoder network utilizing attention\n",
    "* Scales much better, and can be parallelized easier.\n",
    "    * Has been scaled to **ridiculous sizes**\n",
    "![gpt scaling](https://lh4.googleusercontent.com/-RfT5AozxlC0Lmxc_7I39xvs9j0fqdylBrZDR3oocriuT8ulqT7YKBAZuORP9RZZtGrp6nFi7pGrrG1FdZ3yyzvKs1mnkqiwvLxoDCro2qkEAzMAcjl52x803mpNaG49LXiUmT97)"
   ]
  },
  {
   "cell_type": "markdown",
   "metadata": {
    "slideshow": {
     "slide_type": "slide"
    }
   },
   "source": [
    "## References and interesting reads\n",
    "* On the Practical Computational Power of Finite Precision RNNsfor Language Recognition (https://arxiv.org/pdf/1805.04908.pdf): Interesting paper showing how an LSTM is stronger than a GRU\n",
    "* Neural Networks and Deep Learning Ch. 5 http://neuralnetworksanddeeplearning.com/chap5.html - A great explanation of vanishing gradients\n",
    "* Colah's blog on LSTMs https://colah.github.io/posts/2015-08-Understanding-LSTMs/ - A great read on LSTMs\n",
    "* Colah's blog on Attention https://distill.pub/2016/augmented-rnns/ - Also a great read\n",
    "* https://lilianweng.github.io/lil-log/2018/06/24/attention-attention.html - In depth article on attention mechanisms\n",
    "* http://jalammar.github.io/illustrated-transformer/ - More details on transformers\n",
    "* https://openai.com/blog/better-language-models/ - Paper (and blog post) on OpenAI's very large language model, GPT"
   ]
  }
 ],
 "metadata": {
  "celltoolbar": "Slideshow",
  "kernelspec": {
   "display_name": "Python 3",
   "language": "python",
   "name": "python3"
  },
  "language_info": {
   "codemirror_mode": {
    "name": "ipython",
    "version": 3
   },
   "file_extension": ".py",
   "mimetype": "text/x-python",
   "name": "python",
   "nbconvert_exporter": "python",
   "pygments_lexer": "ipython3",
   "version": "3.8.5"
  }
 },
 "nbformat": 4,
 "nbformat_minor": 2
}
